{
 "cells": [
  {
   "cell_type": "markdown",
   "metadata": {},
   "source": [
    "# Facebook Data Crawling\n",
    "In this notebook, we will be crawling data from Facebook using the Facebook Graph API. We will be using the facebook-scraper"
   ]
  },
  {
   "cell_type": "markdown",
   "metadata": {},
   "source": [
    "## Install the required library\n",
    "We will be using the facebook-scraper library to crawl data from Facebook. We will install this library using pip."
   ]
  },
  {
   "cell_type": "code",
   "execution_count": null,
   "metadata": {},
   "outputs": [],
   "source": [
    "%pip install facebook_scraper pandas numpy"
   ]
  },
  {
   "cell_type": "code",
   "execution_count": null,
   "metadata": {},
   "outputs": [],
   "source": [
    "from facebook_scraper import get_posts\n",
    "import pandas as pd\n",
    "import numpy as np"
   ]
  },
  {
   "cell_type": "markdown",
   "metadata": {},
   "source": [
    "## Crawl the data using facebook_scraper\n",
    "Now we can get the data from Facebook using the facebook_scraper library. We will be using the get_posts function to get the posts from the fanpage. This function will return a list of dictionaries, where each dictionary represents a post. We will be saving this list of dictionaries to a json file. More information about what you can do with the facebook_scraper library can be found here: https://github.com/kevinzg/facebook-scraper"
   ]
  },
  {
   "cell_type": "markdown",
   "metadata": {},
   "source": [
    "## Define variables\n",
    "First we have to define some variables that we will be using throughout the notebook. \n",
    "- FANPAGE_LINK: The link to the fanpage that we want to crawl data from. This can be found by going to the fanpage and copying the link from the address bar. For example, the link to the fanpage of the [Nintendo Switch](https://www.facebook.com/NintendoSwitch/) is https://www.facebook.com/NintendoSwitch/. We will be using this link as the value for FANPAGE_LINK.\n",
    "\n",
    "- COOKIE_PATH: The path to the cookie file that we will be using to authenticate with Facebook. This cookie file can be obtained by logging into Facebook and copying the cookie from the browser. For example, in Chromium, use extension [Get cookies.txt LOCALLY](https://chrome.google.com/webstore/detail/get-cookiestxt/bgaddhkoddajcdgocldbbfleckgcbcid) to get the cookie file. Then save the cookie to a file and use the path to this file as the value for COOKIE_PATH. <span style=\"color:red; font-weight:bold\">USE COOKIE FROM A FAKE ACCOUNT, OTHERWISE YOUR REAL ACCOUNT MIGHT GET BANNED.</span>.\n",
    "\n",
    "\n",
    "- FOLDER_NAME: The name of the folder that we will be saving the data to. This folder will be created in the same directory as this notebook."
   ]
  },
  {
   "cell_type": "code",
   "execution_count": 6,
   "metadata": {},
   "outputs": [],
   "source": [
    "post_list=pd.read_csv('Data\\RDVNReborn.csv')"
   ]
  },
  {
   "cell_type": "code",
   "execution_count": null,
   "metadata": {},
   "outputs": [],
   "source": [
    "FANPAGE_LINK =\"RDVNReborn\"\n",
    "FOLDER_PATH = \"Data/\"\n",
    "COOKIE_PATH = \"Data/www.facebook.com_cookies.txt\"\n",
    "\n",
    "PAGES_NUMBER = 10 # Number of pages to crawl"
   ]
  },
  {
   "cell_type": "code",
   "execution_count": 8,
   "metadata": {},
   "outputs": [
    {
     "data": {
      "text/plain": [
       "100"
      ]
     },
     "execution_count": 8,
     "metadata": {},
     "output_type": "execute_result"
    }
   ],
   "source": [
    "len(post_list)"
   ]
  },
  {
   "cell_type": "code",
   "execution_count": 7,
   "metadata": {},
   "outputs": [
    {
     "data": {
      "text/html": [
       "<div>\n",
       "<style scoped>\n",
       "    .dataframe tbody tr th:only-of-type {\n",
       "        vertical-align: middle;\n",
       "    }\n",
       "\n",
       "    .dataframe tbody tr th {\n",
       "        vertical-align: top;\n",
       "    }\n",
       "\n",
       "    .dataframe thead th {\n",
       "        text-align: right;\n",
       "    }\n",
       "</style>\n",
       "<table border=\"1\" class=\"dataframe\">\n",
       "  <thead>\n",
       "    <tr style=\"text-align: right;\">\n",
       "      <th></th>\n",
       "      <th>post_id</th>\n",
       "      <th>text</th>\n",
       "      <th>post_text</th>\n",
       "      <th>shared_text</th>\n",
       "      <th>original_text</th>\n",
       "      <th>time</th>\n",
       "      <th>timestamp</th>\n",
       "      <th>image</th>\n",
       "      <th>image_lowquality</th>\n",
       "      <th>images</th>\n",
       "      <th>...</th>\n",
       "      <th>w3_fb_url</th>\n",
       "      <th>reactions</th>\n",
       "      <th>reaction_count</th>\n",
       "      <th>with</th>\n",
       "      <th>page_id</th>\n",
       "      <th>sharers</th>\n",
       "      <th>image_id</th>\n",
       "      <th>image_ids</th>\n",
       "      <th>was_live</th>\n",
       "      <th>fetched_time</th>\n",
       "    </tr>\n",
       "  </thead>\n",
       "  <tbody>\n",
       "    <tr>\n",
       "      <th>0</th>\n",
       "      <td>3218746788224789</td>\n",
       "      <td>[SECRET SANTA 2020 VÀ LỜI TẠM BIỆT]\\n\\n_______...</td>\n",
       "      <td>[SECRET SANTA 2020 VÀ LỜI TẠM BIỆT]\\n\\n_______...</td>\n",
       "      <td>NaN</td>\n",
       "      <td>NaN</td>\n",
       "      <td>2021-01-31 19:43:17</td>\n",
       "      <td>1612096997</td>\n",
       "      <td>NaN</td>\n",
       "      <td>https://scontent.fhan14-2.fna.fbcdn.net/v/t1.6...</td>\n",
       "      <td>NaN</td>\n",
       "      <td>...</td>\n",
       "      <td>https://www.facebook.com/RDVNReborn/posts/3218...</td>\n",
       "      <td>{'thích': 934, 'yêu thích': 489, 'haha': 2, 'w...</td>\n",
       "      <td>1481</td>\n",
       "      <td>NaN</td>\n",
       "      <td>1.774458e+15</td>\n",
       "      <td>NaN</td>\n",
       "      <td>NaN</td>\n",
       "      <td>[]</td>\n",
       "      <td>False</td>\n",
       "      <td>2023-11-12 20:38:05.354074</td>\n",
       "    </tr>\n",
       "    <tr>\n",
       "      <th>1</th>\n",
       "      <td>3022854274480709</td>\n",
       "      <td>Ding dong ding dong ding dong! Các bạn có nghe...</td>\n",
       "      <td>Ding dong ding dong ding dong! Các bạn có nghe...</td>\n",
       "      <td>NaN</td>\n",
       "      <td>NaN</td>\n",
       "      <td>2020-11-11 19:00:08</td>\n",
       "      <td>1605096008</td>\n",
       "      <td>https://scontent.fhan14-2.fna.fbcdn.net/v/t1.6...</td>\n",
       "      <td>https://scontent.fhan14-2.fna.fbcdn.net/v/t1.6...</td>\n",
       "      <td>['https://scontent.fhan14-2.fna.fbcdn.net/v/t1...</td>\n",
       "      <td>...</td>\n",
       "      <td>https://www.facebook.com/RDVNReborn/posts/3022...</td>\n",
       "      <td>{'thích': 1158, 'yêu thích': 340, 'haha': 5, '...</td>\n",
       "      <td>1557</td>\n",
       "      <td>NaN</td>\n",
       "      <td>1.774458e+15</td>\n",
       "      <td>NaN</td>\n",
       "      <td>3.022893e+15</td>\n",
       "      <td>['3022892694476867']</td>\n",
       "      <td>False</td>\n",
       "      <td>2023-11-12 20:38:24.371586</td>\n",
       "    </tr>\n",
       "    <tr>\n",
       "      <th>2</th>\n",
       "      <td>3018251171607686</td>\n",
       "      <td>Đơn đăng ký tham gia sự kiện Secret Santa năm ...</td>\n",
       "      <td>Đơn đăng ký tham gia sự kiện Secret Santa năm ...</td>\n",
       "      <td>NaN</td>\n",
       "      <td>NaN</td>\n",
       "      <td>2020-11-09 22:57:03</td>\n",
       "      <td>1604937423</td>\n",
       "      <td>https://scontent.fhan14-2.fna.fbcdn.net/v/t1.6...</td>\n",
       "      <td>https://scontent.fhan14-2.fna.fbcdn.net/v/t1.6...</td>\n",
       "      <td>['https://scontent.fhan14-2.fna.fbcdn.net/v/t1...</td>\n",
       "      <td>...</td>\n",
       "      <td>https://www.facebook.com/RDVNReborn/posts/3018...</td>\n",
       "      <td>{'thích': 868, 'yêu thích': 258, 'haha': 8, 'w...</td>\n",
       "      <td>1170</td>\n",
       "      <td>NaN</td>\n",
       "      <td>1.774458e+15</td>\n",
       "      <td>NaN</td>\n",
       "      <td>3.018251e+15</td>\n",
       "      <td>['3018251171607686']</td>\n",
       "      <td>False</td>\n",
       "      <td>2023-11-12 20:39:16.269983</td>\n",
       "    </tr>\n",
       "    <tr>\n",
       "      <th>3</th>\n",
       "      <td>3018250674941069</td>\n",
       "      <td>Đoán xem chuyện gì sẽ xảy ra vào 19:00 ngày 11...</td>\n",
       "      <td>Đoán xem chuyện gì sẽ xảy ra vào 19:00 ngày 11...</td>\n",
       "      <td>NaN</td>\n",
       "      <td>NaN</td>\n",
       "      <td>2020-11-09 22:56:39</td>\n",
       "      <td>1604937399</td>\n",
       "      <td>https://scontent.fhan14-2.fna.fbcdn.net/v/t1.6...</td>\n",
       "      <td>https://scontent.fhan14-2.fna.fbcdn.net/v/t1.6...</td>\n",
       "      <td>['https://scontent.fhan14-2.fna.fbcdn.net/v/t1...</td>\n",
       "      <td>...</td>\n",
       "      <td>https://www.facebook.com/RDVNReborn/posts/3018...</td>\n",
       "      <td>{'thích': 3619, 'yêu thích': 843, 'haha': 40, ...</td>\n",
       "      <td>4622</td>\n",
       "      <td>NaN</td>\n",
       "      <td>1.774458e+15</td>\n",
       "      <td>NaN</td>\n",
       "      <td>NaN</td>\n",
       "      <td>[]</td>\n",
       "      <td>False</td>\n",
       "      <td>2023-11-12 20:41:06.219635</td>\n",
       "    </tr>\n",
       "    <tr>\n",
       "      <th>4</th>\n",
       "      <td>2974690422630428</td>\n",
       "      <td>[Harperween]\\n\\nr/nosleep\\nu/dr_harper\\n\\nTẬP ...</td>\n",
       "      <td>[Harperween]\\n\\nr/nosleep\\nu/dr_harper\\n\\nTẬP ...</td>\n",
       "      <td>NaN</td>\n",
       "      <td>NaN</td>\n",
       "      <td>2020-11-01 21:00:03</td>\n",
       "      <td>1604239203</td>\n",
       "      <td>NaN</td>\n",
       "      <td>https://scontent.fhan14-2.fna.fbcdn.net/v/t1.6...</td>\n",
       "      <td>[]</td>\n",
       "      <td>...</td>\n",
       "      <td>https://www.facebook.com/RDVNReborn/posts/2974...</td>\n",
       "      <td>{'thích': 527, 'yêu thích': 60, 'haha': 4, 'wo...</td>\n",
       "      <td>604</td>\n",
       "      <td>NaN</td>\n",
       "      <td>1.774458e+15</td>\n",
       "      <td>NaN</td>\n",
       "      <td>2.974690e+15</td>\n",
       "      <td>['2974689902630480']</td>\n",
       "      <td>False</td>\n",
       "      <td>2023-11-12 20:42:41.592004</td>\n",
       "    </tr>\n",
       "  </tbody>\n",
       "</table>\n",
       "<p>5 rows × 51 columns</p>\n",
       "</div>"
      ],
      "text/plain": [
       "            post_id                                               text  \\\n",
       "0  3218746788224789  [SECRET SANTA 2020 VÀ LỜI TẠM BIỆT]\\n\\n_______...   \n",
       "1  3022854274480709  Ding dong ding dong ding dong! Các bạn có nghe...   \n",
       "2  3018251171607686  Đơn đăng ký tham gia sự kiện Secret Santa năm ...   \n",
       "3  3018250674941069  Đoán xem chuyện gì sẽ xảy ra vào 19:00 ngày 11...   \n",
       "4  2974690422630428  [Harperween]\\n\\nr/nosleep\\nu/dr_harper\\n\\nTẬP ...   \n",
       "\n",
       "                                           post_text  shared_text  \\\n",
       "0  [SECRET SANTA 2020 VÀ LỜI TẠM BIỆT]\\n\\n_______...          NaN   \n",
       "1  Ding dong ding dong ding dong! Các bạn có nghe...          NaN   \n",
       "2  Đơn đăng ký tham gia sự kiện Secret Santa năm ...          NaN   \n",
       "3  Đoán xem chuyện gì sẽ xảy ra vào 19:00 ngày 11...          NaN   \n",
       "4  [Harperween]\\n\\nr/nosleep\\nu/dr_harper\\n\\nTẬP ...          NaN   \n",
       "\n",
       "   original_text                 time   timestamp  \\\n",
       "0            NaN  2021-01-31 19:43:17  1612096997   \n",
       "1            NaN  2020-11-11 19:00:08  1605096008   \n",
       "2            NaN  2020-11-09 22:57:03  1604937423   \n",
       "3            NaN  2020-11-09 22:56:39  1604937399   \n",
       "4            NaN  2020-11-01 21:00:03  1604239203   \n",
       "\n",
       "                                               image  \\\n",
       "0                                                NaN   \n",
       "1  https://scontent.fhan14-2.fna.fbcdn.net/v/t1.6...   \n",
       "2  https://scontent.fhan14-2.fna.fbcdn.net/v/t1.6...   \n",
       "3  https://scontent.fhan14-2.fna.fbcdn.net/v/t1.6...   \n",
       "4                                                NaN   \n",
       "\n",
       "                                    image_lowquality  \\\n",
       "0  https://scontent.fhan14-2.fna.fbcdn.net/v/t1.6...   \n",
       "1  https://scontent.fhan14-2.fna.fbcdn.net/v/t1.6...   \n",
       "2  https://scontent.fhan14-2.fna.fbcdn.net/v/t1.6...   \n",
       "3  https://scontent.fhan14-2.fna.fbcdn.net/v/t1.6...   \n",
       "4  https://scontent.fhan14-2.fna.fbcdn.net/v/t1.6...   \n",
       "\n",
       "                                              images  ...  \\\n",
       "0                                                NaN  ...   \n",
       "1  ['https://scontent.fhan14-2.fna.fbcdn.net/v/t1...  ...   \n",
       "2  ['https://scontent.fhan14-2.fna.fbcdn.net/v/t1...  ...   \n",
       "3  ['https://scontent.fhan14-2.fna.fbcdn.net/v/t1...  ...   \n",
       "4                                                 []  ...   \n",
       "\n",
       "                                           w3_fb_url  \\\n",
       "0  https://www.facebook.com/RDVNReborn/posts/3218...   \n",
       "1  https://www.facebook.com/RDVNReborn/posts/3022...   \n",
       "2  https://www.facebook.com/RDVNReborn/posts/3018...   \n",
       "3  https://www.facebook.com/RDVNReborn/posts/3018...   \n",
       "4  https://www.facebook.com/RDVNReborn/posts/2974...   \n",
       "\n",
       "                                           reactions reaction_count with  \\\n",
       "0  {'thích': 934, 'yêu thích': 489, 'haha': 2, 'w...           1481  NaN   \n",
       "1  {'thích': 1158, 'yêu thích': 340, 'haha': 5, '...           1557  NaN   \n",
       "2  {'thích': 868, 'yêu thích': 258, 'haha': 8, 'w...           1170  NaN   \n",
       "3  {'thích': 3619, 'yêu thích': 843, 'haha': 40, ...           4622  NaN   \n",
       "4  {'thích': 527, 'yêu thích': 60, 'haha': 4, 'wo...            604  NaN   \n",
       "\n",
       "        page_id  sharers      image_id             image_ids  was_live  \\\n",
       "0  1.774458e+15      NaN           NaN                    []     False   \n",
       "1  1.774458e+15      NaN  3.022893e+15  ['3022892694476867']     False   \n",
       "2  1.774458e+15      NaN  3.018251e+15  ['3018251171607686']     False   \n",
       "3  1.774458e+15      NaN           NaN                    []     False   \n",
       "4  1.774458e+15      NaN  2.974690e+15  ['2974689902630480']     False   \n",
       "\n",
       "                 fetched_time  \n",
       "0  2023-11-12 20:38:05.354074  \n",
       "1  2023-11-12 20:38:24.371586  \n",
       "2  2023-11-12 20:39:16.269983  \n",
       "3  2023-11-12 20:41:06.219635  \n",
       "4  2023-11-12 20:42:41.592004  \n",
       "\n",
       "[5 rows x 51 columns]"
      ]
     },
     "execution_count": 7,
     "metadata": {},
     "output_type": "execute_result"
    }
   ],
   "source": [
    "post_list.head()"
   ]
  },
  {
   "cell_type": "markdown",
   "metadata": {},
   "source": []
  },
  {
   "cell_type": "markdown",
   "metadata": {},
   "source": [
    "## Convert list of dicts to df"
   ]
  },
  {
   "cell_type": "markdown",
   "metadata": {},
   "source": [
    "Now we can convert the list of dictionaries to a pandas dataframe. We will be using the pandas library to do this. We will also be saving the dataframe to a xlxs or csv file."
   ]
  },
  {
   "cell_type": "code",
   "execution_count": null,
   "metadata": {},
   "outputs": [],
   "source": [
    "# Initialize dataframe to scrape Facebook post\n",
    "post_df_full = pd.DataFrame(columns=post_list[0].keys(), index=range(len(post_list)), data=post_list)\n",
    "\n",
    "# To df\n",
    "path=FOLDER_PATH + FANPAGE_LINK + \".csv\"\n",
    "post_df_full.to_csv(path, index=False)\n",
    "print(path)"
   ]
  },
  {
   "cell_type": "code",
   "execution_count": null,
   "metadata": {},
   "outputs": [],
   "source": [
    "post_df_full"
   ]
  }
 ],
 "metadata": {
  "kernelspec": {
   "display_name": "Python 3",
   "language": "python",
   "name": "python3"
  },
  "language_info": {
   "codemirror_mode": {
    "name": "ipython",
    "version": 3
   },
   "file_extension": ".py",
   "mimetype": "text/x-python",
   "name": "python",
   "nbconvert_exporter": "python",
   "pygments_lexer": "ipython3",
   "version": "3.11.5"
  }
 },
 "nbformat": 4,
 "nbformat_minor": 2
}
